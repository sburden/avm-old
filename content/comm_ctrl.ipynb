{
 "cells": [
  {
   "cell_type": "code",
   "execution_count": 30,
   "metadata": {
    "tags": [
     "remove_cell"
    ]
   },
   "outputs": [],
   "source": [
    "import numpy as np\n",
    "\n",
    "import pint\n",
    "units = pint.UnitRegistry()\n",
    "\n",
    "def readable(u):\n",
    "  return '{0.magnitude:0.1f} {0.units}'.format(u.to_compact())"
   ]
  },
  {
   "cell_type": "markdown",
   "metadata": {},
   "source": [
    "# Communication & Control\n",
    "In this notebook, we summarize statistics relevant for the communication and control subsystem in nervous systems and digital computer networks."
   ]
  },
  {
   "cell_type": "markdown",
   "metadata": {
    "colab_type": "text",
    "id": "R1e0sd-RjWb_"
   },
   "source": [
    "## Communication"
   ]
  },
  {
   "cell_type": "markdown",
   "metadata": {},
   "source": [
    "In the following subsections, we quantify and compare *geometry*, *energetics*, *latency*, and *bandwidth* of communication channels in nervous systems and digital computer networks.  Subsequently, we compare two hypothetical $10$ centimeter-length communication channels implemented with the two technologies."
   ]
  },
  {
   "cell_type": "markdown",
   "metadata": {
    "colab_type": "text",
    "id": "_ru0HhWrKW0K"
   },
   "source": [
    "### Geometry"
   ]
  },
  {
   "cell_type": "markdown",
   "metadata": {},
   "source": [
    "The linear dimensions of transistors are on the order of $10$ nanometers in state-of-the-art fabrication processes.  For instance, the Tianjic chip, which implements artificial neural network computations, is fabricated with a $28$-nanometer process {% cite Pei2019-rv %}."
   ]
  },
  {
   "cell_type": "code",
   "execution_count": 123,
   "metadata": {
    "colab": {},
    "colab_type": "code",
    "id": "DsLylmE8FJqp"
   },
   "outputs": [],
   "source": [
    "transistor_length = 28 * units.nanometer \n",
    "transistor_wire_diameter = transistor_length\n",
    "Ethernet_diameter = 5 * units.millimeter"
   ]
  },
  {
   "cell_type": "markdown",
   "metadata": {},
   "source": [
    "Empirically, neuron nuclei diameters range from $4$ to $100$ micrometers, axon diameters range from $0.1$ to $10$ micrometers {% cite Perge2012-vm %}, and there are theoretical reasons to believe smaller sizes are not practical {% cite Faisal2005-qw %}."
   ]
  },
  {
   "cell_type": "code",
   "execution_count": 122,
   "metadata": {
    "colab": {},
    "colab_type": "code",
    "id": "DsLylmE8FJqp"
   },
   "outputs": [],
   "source": [
    "neuron_diameter = [4,100] * units.micrometer\n",
    "axon_diameter = [.1,10] * units.micrometer"
   ]
  },
  {
   "cell_type": "markdown",
   "metadata": {
    "colab_type": "text",
    "id": "odNZtqWPKZdf"
   },
   "source": [
    "### Energetics\n"
   ]
  },
  {
   "cell_type": "markdown",
   "metadata": {
    "colab_type": "text",
    "id": "RVvx4yLTSsaH"
   },
   "source": [
    "Synaptic transmission rate is theoretically limited to (and experimentally measured up to) $\\approx 10$ bits per spike and $\\approx 10^3$ bits per second\n",
    "{% cite MacKay1952-om %}.\n",
    "\n",
    "One spike consumes $2.4 \\times 10^9$ ATP molecules in the human cortex, and the average cortical cell has $0.1$ meters of intracortical axon {% cite Lennie2003-ob %}.\n",
    "\n",
    "Thus, converting units, we determine that a nervous system requires $\\approx 122$ picojoules to transmit one bit of information over a distance of one meter."
   ]
  },
  {
   "cell_type": "code",
   "execution_count": 33,
   "metadata": {
    "colab": {},
    "colab_type": "code",
    "id": "E72Cp7KkSqIN"
   },
   "outputs": [
    {
     "name": "stdout",
     "output_type": "stream",
     "text": [
      "cost to transmit information in nervous system ~= 122.0 picojoule / bit / meter\n"
     ]
    }
   ],
   "source": [
    "units.define('spike = 10 * bit')\n",
    "units.define('ATP molecules = mol / (6e23) = ATP')\n",
    "\n",
    "spike_distance = 0.1 * units.meter\n",
    "ATP_per_spike = 2.4e9 * units.ATP / (units.spike * spike_distance)\n",
    "ATP_J_per_mol = 30.5e3 * units.joule / units.mol\n",
    "\n",
    "spike_cost_per_bit = (ATP_per_spike * ATP_J_per_mol)\n",
    "\n",
    "print('cost to transmit information in nervous system ~=',\n",
    "      readable(spike_cost_per_bit.to(units.joule / (units.bit * units.meter))))"
   ]
  },
  {
   "cell_type": "markdown",
   "metadata": {},
   "source": [
    "Wired Ethernet uses $\\approx 281$ picojoules to transmit one bit of information over a distance of one meter {% cite Mahadevan2009-gx %}."
   ]
  },
  {
   "cell_type": "code",
   "execution_count": 118,
   "metadata": {},
   "outputs": [
    {
     "name": "stdout",
     "output_type": "stream",
     "text": [
      "cost to transmit information over Ethernet ~= 281.1 picojoule / bit / meter\n"
     ]
    }
   ],
   "source": [
    "Ethernet_distance = 100 * units.meter\n",
    "Ethernet_cost_per_bit = np.mean([10.7,4.1,3.7,2.1,13.7,8.75,153.7]) * (units.milliwatt)/(units.megabit / units.sec) / Ethernet_distance\n",
    "print('cost to transmit information over Ethernet ~=',\n",
    "      readable(Ethernet_cost_per_bit.to(units.joule / (units.bit * units.meter))))"
   ]
  },
  {
   "cell_type": "markdown",
   "metadata": {},
   "source": [
    "### Latency"
   ]
  },
  {
   "cell_type": "markdown",
   "metadata": {},
   "source": [
    "Axonal conduction velocity is theoretically proportional to axon diameter; experimentally, conduction velocities top out at $100$ meters per second for the myelinated nerves in terrestrial mammals {% cite More2010-gy %}."
   ]
  },
  {
   "cell_type": "code",
   "execution_count": 35,
   "metadata": {},
   "outputs": [
    {
     "name": "stdout",
     "output_type": "stream",
     "text": [
      "axonal conduction velocity ~= 100.0 meter / second\n"
     ]
    }
   ],
   "source": [
    "axonal_conduction_velocity = 100 * units.meter / units.sec\n",
    "print('axonal conduction velocity ~=',\n",
    "      readable(axonal_conduction_velocity))"
   ]
  },
  {
   "cell_type": "markdown",
   "metadata": {},
   "source": [
    "EtherCAT (IEC 61158) {% cite Beckhoff_Automation2018-df %}, a standard communication protocol for control systems based on Ethernet, performs updates every $12$ to $350$ microseconds for cable lengths up to $100$ meters, corresponding to conduction velocities on the order of 100 kilometers per second for cat-sized robots."
   ]
  },
  {
   "cell_type": "code",
   "execution_count": 36,
   "metadata": {},
   "outputs": [
    {
     "name": "stdout",
     "output_type": "stream",
     "text": [
      "EtherCAT conduction velocity ~= 166.7 kilometer / second\n"
     ]
    }
   ],
   "source": [
    "EtherCAT_update = (12.)/2 * units.microseconds\n",
    "EtherCAT_distance = 1 * units.meters\n",
    "EtherCAT_conduction_velocity = EtherCAT_distance / EtherCAT_update\n",
    "print('EtherCAT conduction velocity ~=',\n",
    "      readable(EtherCAT_conduction_velocity))"
   ]
  },
  {
   "cell_type": "markdown",
   "metadata": {},
   "source": [
    "### Bandwidth"
   ]
  },
  {
   "cell_type": "markdown",
   "metadata": {},
   "source": [
    "Synaptic transmission rates are theoretically limited to $10$ bits per spike and $10^3$ bits per second {% cite MacKay1952-om %}; experimentally, the rates range from $1$ to $10$ bits per spike and $10$ to $10^3$ bits per second (Table 2 in {% cite Borst1999-go %})"
   ]
  },
  {
   "cell_type": "code",
   "execution_count": 69,
   "metadata": {},
   "outputs": [],
   "source": [
    "synaptic_bandwidth = [10, 10**3] * units.bits / units.sec"
   ]
  },
  {
   "cell_type": "markdown",
   "metadata": {},
   "source": [
    "EtherCAT guarantees transmission rates on the order of $10$ megabits per second {% cite Beckhoff_Automation2018-df %}."
   ]
  },
  {
   "cell_type": "code",
   "execution_count": 46,
   "metadata": {},
   "outputs": [],
   "source": [
    "EtherCAT_bandwidth = 10**7 * units.bits / units.sec"
   ]
  },
  {
   "cell_type": "markdown",
   "metadata": {},
   "source": [
    "Thus, a standard communication protocol for digital computers transmits 10,000 times as many bits per second as a nervous system on a single \"wire\"."
   ]
  },
  {
   "cell_type": "code",
   "execution_count": 115,
   "metadata": {},
   "outputs": [
    {
     "name": "stdout",
     "output_type": "stream",
     "text": [
      "EtherCAT / synaptic bandwidth ratio ~= 10000.0 dimensionless\n"
     ]
    }
   ],
   "source": [
    "print('EtherCAT / synaptic bandwidth ratio ~=',\n",
    "      readable(EtherCAT_bandwidth / synaptic_bandwidth[1]))"
   ]
  },
  {
   "cell_type": "markdown",
   "metadata": {},
   "source": [
    "### Hypothetical channel"
   ]
  },
  {
   "cell_type": "markdown",
   "metadata": {},
   "source": [
    "Since axons transmit information at 1/10,000th the rate of EtherCAT cables, we compare the geometry and energetics of two hypothetical 10 centimeter-long communication channels:  an animal channel consisting of 10,000 parallel axons and a machine channel consisting of one Ethernet cable.  Referring to the geometric and energetic metrics summarized above, we find that the cross-sectional area and energy consumption are comparable for the hypothetical animal and machine communication channels."
   ]
  },
  {
   "cell_type": "code",
   "execution_count": 120,
   "metadata": {},
   "outputs": [
    {
     "name": "stdout",
     "output_type": "stream",
     "text": [
      "animal / machine channel geometry ratio ~= 0.2 dimensionless\n"
     ]
    }
   ],
   "source": [
    "animal_channel_geometry = axon_diameter[0] / synaptic_bandwidth[1]\n",
    "machine_channel_geometry = Ethernet_diameter / EtherCAT_bandwidth\n",
    "\n",
    "print('animal / machine channel geometry ratio ~=',\n",
    "      readable((animal_channel_geometry/machine_channel_geometry).to(units.dimensionless)))"
   ]
  },
  {
   "cell_type": "code",
   "execution_count": 121,
   "metadata": {},
   "outputs": [
    {
     "name": "stdout",
     "output_type": "stream",
     "text": [
      "animal / machine channel energetics ratio ~= 0.4 dimensionless\n"
     ]
    }
   ],
   "source": [
    "animal_channel_energetics = spike_cost_per_bit\n",
    "machine_channel_energetics = Ethernet_cost_per_bit\n",
    "\n",
    "print('animal / machine channel energetics ratio ~=',\n",
    "      readable((animal_channel_energetics/machine_channel_energetics).to(units.dimensionless)))"
   ]
  },
  {
   "cell_type": "markdown",
   "metadata": {},
   "source": [
    "## Control"
   ]
  },
  {
   "cell_type": "markdown",
   "metadata": {},
   "source": [
    "### TBD"
   ]
  },
  {
   "cell_type": "markdown",
   "metadata": {
    "colab": {},
    "colab_type": "code",
    "id": "vqJ4HX1aXOdg"
   },
   "source": [
    "## References cited\n",
    "\n",
    "{% bibliography --cited %}"
   ]
  }
 ],
 "metadata": {
  "celltoolbar": "Tags",
  "colab": {
   "collapsed_sections": [],
   "name": "dimensional-analysis.ipynb",
   "provenance": [],
   "toc_visible": true,
   "version": "0.3.2"
  },
  "kernelspec": {
   "display_name": "Python 3",
   "language": "python",
   "name": "python3"
  },
  "language_info": {
   "codemirror_mode": {
    "name": "ipython",
    "version": 3
   },
   "file_extension": ".py",
   "mimetype": "text/x-python",
   "name": "python",
   "nbconvert_exporter": "python",
   "pygments_lexer": "ipython3",
   "version": "3.6.8"
  }
 },
 "nbformat": 4,
 "nbformat_minor": 1
}
