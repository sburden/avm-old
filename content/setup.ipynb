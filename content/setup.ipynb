{
 "cells": [
  {
   "cell_type": "markdown",
   "metadata": {
    "colab_type": "text",
    "id": "OTsUrWaQjjMq"
   },
   "source": [
    "# Setup"
   ]
  },
  {
   "cell_type": "markdown",
   "metadata": {
    "colab_type": "text",
    "id": "CFnefCh1jsTj"
   },
   "source": [
    "*Sam:* I tried out several packages (sympy.physics.units, quantities), but found [pint](https://pint.readthedocs.io/en/0.9/tutorial.html) most convenient for our use cases."
   ]
  },
  {
   "cell_type": "code",
   "execution_count": 1,
   "metadata": {
    "colab": {
     "base_uri": "https://localhost:8080/",
     "height": 123
    },
    "colab_type": "code",
    "id": "Pz6v-aSpjmWo",
    "outputId": "eaace5cf-76f4-4c1a-995b-7dbc18358871"
   },
   "outputs": [],
   "source": [
    "import pint\n",
    "units = pint.UnitRegistry()"
   ]
  },
  {
   "cell_type": "markdown",
   "metadata": {
    "colab_type": "text",
    "id": "qfoUw7orkKt6"
   },
   "source": [
    "*Sam:* in particular, it was easy to define new units and control how results are displayed:"
   ]
  },
  {
   "cell_type": "code",
   "execution_count": 2,
   "metadata": {
    "colab": {
     "base_uri": "https://localhost:8080/",
     "height": 68
    },
    "colab_type": "code",
    "id": "29pJveJ5kJ1M",
    "outputId": "45bc171f-b204-4009-ea85-baff5c80d70e"
   },
   "outputs": [
    {
     "name": "stdout",
     "output_type": "stream",
     "text": [
      "ATP per spike: 2 gigaATP molecules / spike\n",
      "Joules per spike: 73200000000000.0 ATP molecules * joule / mole / spike\n",
      "Joules per bit: 12 picojoule / bit\n"
     ]
    }
   ],
   "source": [
    "def readable(u):\n",
    "  return '{0.magnitude:0.0f} {0.units}'.format(u.to_compact())\n",
    "\n",
    "units.define('spike = 10 * bit')\n",
    "units.define('ATP molecules = mol / (6e23) = ATP')\n",
    "\n",
    "ATP_per_spike = 2.4e9 * units.ATP / units.spike\n",
    "ATP_J_per_mol = 30.5e3 * units.joule / units.mol\n",
    "\n",
    "print('ATP per spike:',readable(ATP_per_spike))\n",
    "\n",
    "Joules_per_spike = (ATP_per_spike * ATP_J_per_mol)\n",
    "\n",
    "print('Joules per spike:',Joules_per_spike)\n",
    "print('Joules per bit:',readable(Joules_per_spike.to(units.joule / units.bit)))"
   ]
  }
 ],
 "metadata": {
  "colab": {
   "collapsed_sections": [],
   "name": "dimensional-analysis.ipynb",
   "provenance": [],
   "toc_visible": true,
   "version": "0.3.2"
  },
  "kernelspec": {
   "display_name": "Python 3",
   "language": "python",
   "name": "python3"
  },
  "language_info": {
   "codemirror_mode": {
    "name": "ipython",
    "version": 3
   },
   "file_extension": ".py",
   "mimetype": "text/x-python",
   "name": "python",
   "nbconvert_exporter": "python",
   "pygments_lexer": "ipython3",
   "version": "3.6.8"
  }
 },
 "nbformat": 4,
 "nbformat_minor": 1
}
